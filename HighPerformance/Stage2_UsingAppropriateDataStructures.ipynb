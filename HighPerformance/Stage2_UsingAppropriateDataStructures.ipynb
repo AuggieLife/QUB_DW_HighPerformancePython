{
 "cells": [
  {
   "cell_type": "markdown",
   "metadata": {},
   "source": [
    "<span><h1 style=\"color:#4987FF\">\n",
    "Using Appropriate Data Structures\n",
    "</h1></span>"
   ]
  },
  {
   "cell_type": "markdown",
   "metadata": {},
   "source": [
    "### For any given problem that you know how to solve with code, you can probably think of a few different ways of solving it.\n",
    "### For example, you might know you could use a numpy array or a list for one part, or a for-loop or list-comprehension for another\n",
    "\n",
    "### This notebook will focus on heuristics for choosing the 'best' approach for a given problem"
   ]
  },
  {
   "cell_type": "code",
   "execution_count": 4,
   "metadata": {},
   "outputs": [
    {
     "name": "stdout",
     "output_type": "stream",
     "text": [
      "build_list, build_array;\n",
      "100 loops, best of 3: 2.26 ms per loop\n",
      "10 loops, best of 3: 156 ms per loop\n",
      "\n",
      "\n",
      "square_all_list, square_all_array;\n",
      "10000 loops, best of 3: 78.9 µs per loop\n",
      "The slowest run took 8.60 times longer than the fastest. This could mean that an intermediate result is being cached.\n",
      "100000 loops, best of 3: 5.11 µs per loop\n"
     ]
    }
   ],
   "source": [
    "\"\"\"\n",
    "1st) Lists vs. numpy arrays -\n",
    "\n",
    "General:\n",
    "    Lists -> \n",
    "    mutable, can insert / remove elements efficiently, cannot operate on all elements at once\n",
    "    \n",
    "    np.arrays -> \n",
    "    mutable (other than size), must create new array to insert / remove elements,\n",
    "    can operate on all elements at once.\n",
    "    \n",
    "Heuristics:\n",
    "    > If you want to gradually build up a list-like structure (and don't know final size), use a list\n",
    "    > If you have already know what your elements are (or at least how many you'll have),\n",
    "      and want to do operations on them all, use a np.array\n",
    "\"\"\"\n",
    "\n",
    "import numpy as np\n",
    "import timeit\n",
    "\n",
    "def build_list(count):\n",
    "    out = []\n",
    "    for i in range(count):\n",
    "        out.append(i)\n",
    "    return out\n",
    "\n",
    "def build_array(count):\n",
    "    out = np.array([])\n",
    "    for i in range(count):\n",
    "        out = np.append(out,i)\n",
    "    return out\n",
    "\n",
    "print('build_list, build_array;')\n",
    "%timeit build_list(5000)\n",
    "%timeit build_array(5000)\n",
    "\n",
    "prebuilt_array = np.linspace(0,5000)\n",
    "prebuilt_list = list(prebuilt_array)\n",
    "\n",
    "def square_all_array(list_struct):\n",
    "    return list_struct**2\n",
    "\n",
    "def square_all_list(list_struct):\n",
    "    out = []\n",
    "    for i in list_struct:\n",
    "        out.append(i**2)\n",
    "    return out\n",
    "\n",
    "print('\\n\\nsquare_all_list, square_all_array;')\n",
    "%timeit square_all_list(prebuilt_list)\n",
    "%timeit square_all_array(prebuilt_array)"
   ]
  },
  {
   "cell_type": "markdown",
   "metadata": {},
   "source": [
    "### Note: An argument could be made that I've compared apples with oranges here, but that's kind of the point; the structures aren't the same, and don't support the same types of operations sometimes. I've tried to be fair and implement each as optimally as possible for that data type in each case."
   ]
  },
  {
   "cell_type": "code",
   "execution_count": 5,
   "metadata": {},
   "outputs": [
    {
     "name": "stdout",
     "output_type": "stream",
     "text": [
      "square_list_FL, square_list_LC;\n",
      "10000 loops, best of 3: 88.1 µs per loop\n",
      "10000 loops, best of 3: 68.8 µs per loop\n"
     ]
    }
   ],
   "source": [
    "\"\"\"\n",
    "2nd) For loops vs. List comprehensions -\n",
    "\n",
    "General:\n",
    "    Less extreme differences in speed.\n",
    "    Main advantages of each are;\n",
    "        LC - shorter, quicker to write, slightly faster\n",
    "        FL - easier to read, can edit multiple variables in the loop\n",
    "    \n",
    "Heuristics:\n",
    "    > if your for loop changes one variable, and you care about speed, do it as a list comprehension\n",
    "    > if it does more than one thing, and/or changes more than one variable, keep it as a for loop\n",
    "    \n",
    "Note: This heuristic is more to do with readability than speed, other than the small benefit of using LCs\n",
    "Also Note: Nesting is supported in list comprehensions.\n",
    "\"\"\"\n",
    "\n",
    "# Using prebuilt_list from last example\n",
    "def square_list_FL(list_struct):\n",
    "    out = []\n",
    "    for element in list_struct:\n",
    "        out.append(element**2)\n",
    "    return out\n",
    "\n",
    "def square_list_LC(list_struct):\n",
    "    return [element**2 for element in list_struct]\n",
    "\n",
    "print('square_list_FL, square_list_LC;')\n",
    "%timeit square_list_FL(prebuilt_list)\n",
    "%timeit square_list_LC(prebuilt_list)"
   ]
  },
  {
   "cell_type": "code",
   "execution_count": 8,
   "metadata": {},
   "outputs": [
    {
     "name": "stdout",
     "output_type": "stream",
     "text": [
      "1 loop, best of 3: 1.36 s per loop\n",
      "1 loop, best of 3: 186 ms per loop\n"
     ]
    }
   ],
   "source": [
    "\"\"\"\n",
    "3rd) np.ndarray vs. np.matrix - \n",
    "\n",
    "General:\n",
    "    np.matrix may be deprecated soon\n",
    "    np.array can be used instead of np.matrix in almost all cases\n",
    "    Development on np.matrix has slowed (or stopped?) and so np.array can be a few times faster in some cases\n",
    "    \n",
    "Heuristic:\n",
    "    Always prefer np.ndarray to np.matrix\n",
    "\"\"\"\n",
    "\n",
    "def generate_dense_matrix(N, density=0.2):\n",
    "    real = np.random.rand(N, N) > density/2\n",
    "    imaginary =(np.random.rand(N, N) > density/2)*1j\n",
    "    return real+imaginary\n",
    "\n",
    "big_ndarray = generate_dense_matrix(500)\n",
    "big_matrix = np.matrix(generate_dense_matrix(500))\n",
    "\n",
    "%timeit big_matrix**300\n",
    "%timeit big_ndarray**300"
   ]
  },
  {
   "cell_type": "code",
   "execution_count": null,
   "metadata": {
    "collapsed": true
   },
   "outputs": [],
   "source": []
  }
 ],
 "metadata": {
  "kernelspec": {
   "display_name": "Python 3",
   "language": "python",
   "name": "python3"
  },
  "language_info": {
   "codemirror_mode": {
    "name": "ipython",
    "version": 3
   },
   "file_extension": ".py",
   "mimetype": "text/x-python",
   "name": "python",
   "nbconvert_exporter": "python",
   "pygments_lexer": "ipython3",
   "version": "3.6.1"
  }
 },
 "nbformat": 4,
 "nbformat_minor": 2
}
