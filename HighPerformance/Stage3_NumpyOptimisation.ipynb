{
 "cells": [
  {
   "cell_type": "markdown",
   "metadata": {},
   "source": [
    "<span><h1 style=\"color:#4987FF\">\n",
    "Numpy Optimisation:\n",
    "</h1></span>"
   ]
  },
  {
   "cell_type": "markdown",
   "metadata": {},
   "source": [
    "## We actually covered most of the important things in the last notebook, in this one there's only one other thing that I want to cover:"
   ]
  },
  {
   "cell_type": "code",
   "execution_count": 5,
   "metadata": {},
   "outputs": [
    {
     "name": "stdout",
     "output_type": "stream",
     "text": [
      "QUB_test.pdf\n",
      "QUB_['file1.txt', 'file2.csv']\n"
     ]
    }
   ],
   "source": [
    "\"\"\"\n",
    "Vectorisation -\n",
    "\n",
    "You've seen before that Numpy has lots of very nice functions, and can perform their respective\n",
    "operations on each element of an array at once. \n",
    "\n",
    "However;\n",
    "If we want to use a function we've defined ourselves on a list-type structure (including np.array), \n",
    "it won't be able to perform it element-wise.\n",
    "Instead, the obvious thing to do would be to loop over the array and call our function on each element explicitly.\n",
    "Clearly, this is a lot slower than we would like\n",
    "\"\"\"\n",
    "import numpy as np\n",
    "\n",
    "def add_QUB_prefix(filename):\n",
    "    return \"QUB_{}\".format(filename)\n",
    "\n",
    "print(add_QUB_prefix('test.pdf'))\n",
    "print(add_QUB_prefix(['file1.txt', 'file2.csv']))"
   ]
  },
  {
   "cell_type": "code",
   "execution_count": 4,
   "metadata": {},
   "outputs": [
    {
     "name": "stdout",
     "output_type": "stream",
     "text": [
      "['QUB_file1.txt' 'QUB_file2.csv']\n",
      "['QUB_file1.txt' 'QUB_file2.csv']\n"
     ]
    }
   ],
   "source": [
    "\"\"\"\n",
    "Numpy provides us with a way to take an (almost) arbitrary function, and 'vectorise' it to make it work element-wise.\n",
    "\n",
    "You can convert an existing function with it directly, or use it as a decorator when making a function -\n",
    "\"\"\"\n",
    "\n",
    "add_QUB_prefix_1 = np.vectorize(add_QUB_prefix)\n",
    "\n",
    "@np.vectorize\n",
    "def add_QUB_prefix_2(filename):\n",
    "    return \"QUB_{}\".format(filename)\n",
    "\n",
    "print(add_QUB_prefix_1(['file1.txt', 'file2.csv']))\n",
    "print(add_QUB_prefix_2(['file1.txt', 'file2.csv']))"
   ]
  },
  {
   "cell_type": "markdown",
   "metadata": {},
   "source": [
    "#### In the above example, we didn't save much time as it wasn't computationally heavy to start with - but it was a lot easier than looping plus it's easy to see how to apply the concepts to other, computationally heavier, functions for serious time improvements"
   ]
  }
 ],
 "metadata": {
  "kernelspec": {
   "display_name": "Python 3",
   "language": "python",
   "name": "python3"
  },
  "language_info": {
   "codemirror_mode": {
    "name": "ipython",
    "version": 3
   },
   "file_extension": ".py",
   "mimetype": "text/x-python",
   "name": "python",
   "nbconvert_exporter": "python",
   "pygments_lexer": "ipython3",
   "version": "3.6.1"
  }
 },
 "nbformat": 4,
 "nbformat_minor": 2
}
