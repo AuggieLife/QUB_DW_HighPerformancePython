{
 "cells": [
  {
   "cell_type": "markdown",
   "metadata": {},
   "source": [
    "<span><h1 style=\"color:#4987FF\">\n",
    "Numba\n",
    "</h1></span>"
   ]
  },
  {
   "cell_type": "markdown",
   "metadata": {},
   "source": [
    "## What is Numba?\n",
    "\n",
    "\"A JIT Compiler for Python Functions\"\n",
    "\n",
    "It tries to 'intelligently' optimise things, supports many kinds of optimisations, including CPU and GPU optimisations"
   ]
  },
  {
   "cell_type": "markdown",
   "metadata": {},
   "source": [
    "Here's a terrifying picture to describe how it works. You can ignore it if you want, we'll only be using a couple of functions, and hoping it's smart enough to do all the hard work itself;\n",
    "\n",
    "<img src=\"HowJitWorks.png\">"
   ]
  },
  {
   "cell_type": "markdown",
   "metadata": {},
   "source": [
    "Make sense? I joke, although that image is actually a good overview of how it works, and googling 'numba' + the content of each cell leads you to find a good explanation of that part, which hopefully improves your overall underdstanding of how numba works (if you want a more in-depth understanding that is).\n",
    "\n",
    "Below we'll show the couple of the main functions we found useful and a couple of examples."
   ]
  },
  {
   "cell_type": "code",
   "execution_count": 4,
   "metadata": {
    "collapsed": true
   },
   "outputs": [],
   "source": [
    "from numba import jit, autojit\n",
    "import numpy as np\n",
    "\n",
    "# These examples are taken from the 'Examples' section on Numba's official website\n",
    "\n",
    "\"\"\"\n",
    "@jit decorator:\n",
    "Tells Numba to do just-in-time compilation for this function\n",
    "\"\"\"\n",
    "\n",
    "@jit\n",
    "def mandel(x, y, max_iters):\n",
    "    \"\"\"\n",
    "    Given the real and imaginary parts of a complex number,\n",
    "    determine if it is a candidate for membership in the Mandelbrot\n",
    "    set given a fixed number of iterations.\n",
    "    \"\"\"\n",
    "    i = 0\n",
    "    c = complex(x,y)\n",
    "    z = 0.0j\n",
    "    for i in range(max_iters):\n",
    "        z = z*z + c\n",
    "        if (z.real*z.real + z.imag*z.imag) >= 4:\n",
    "            return i\n",
    "\n",
    "    return 255\n",
    "\n",
    "\n",
    "\"\"\"\n",
    "You can give the JIT compiler clues to make the optimisation better;\n",
    "> You can tell it output type (void here), input type (three arrays of floating point numbers here)\n",
    "> You can tell it to compile in 'nopython' mode rather than object mode - apparently this is faster,\n",
    "  but has limitations.  \n",
    "> You can tell it that you're only using native types (rather than python objects), and so it can \n",
    "  turn off the Global Interpretr Lock (GIL)\n",
    "\"\"\"\n",
    "\n",
    "@jit('void(double[:], double[:], double[:])', nopython=True, nogil=True)\n",
    "def inner_func_nb(result, a, b):\n",
    "    \"\"\"\n",
    "    Function under test.\n",
    "    \"\"\"\n",
    "    for i in range(len(result)):\n",
    "        result[i] = np.exp(2.1 * a[i] + 3.2 * b[i])\n",
    "\n",
    "\n",
    "\"\"\"\n",
    "Another function Numpy offers is 'autojit'. \n",
    "It used to be the case that @jit required tpyes to be able to optimise it,\n",
    "and @autojit would try and guess the types as well as otimise it. Now, @jit can do\n",
    "this as well, and so @autojit is redundant. It still works though;\n",
    "\n",
    "\"\"\"\n",
    "\n",
    "@autojit\n",
    "def inner_func_nb(result, a, b):\n",
    "    \"\"\"\n",
    "    Function under test.\n",
    "    \"\"\"\n",
    "    for i in range(len(result)):\n",
    "        result[i] = np.exp(2.1 * a[i] + 3.2 * b[i])"
   ]
  },
  {
   "cell_type": "markdown",
   "metadata": {
    "collapsed": true
   },
   "source": [
    "## For more documentation and examples, see below:\n",
    "\n",
    "## [Numba](https://numba.pydata.org/numba-doc/0.17.0/user/jit.html)"
   ]
  }
 ],
 "metadata": {
  "kernelspec": {
   "display_name": "Python 3",
   "language": "python",
   "name": "python3"
  },
  "language_info": {
   "codemirror_mode": {
    "name": "ipython",
    "version": 3
   },
   "file_extension": ".py",
   "mimetype": "text/x-python",
   "name": "python",
   "nbconvert_exporter": "python",
   "pygments_lexer": "ipython3",
   "version": "3.6.1"
  }
 },
 "nbformat": 4,
 "nbformat_minor": 2
}
