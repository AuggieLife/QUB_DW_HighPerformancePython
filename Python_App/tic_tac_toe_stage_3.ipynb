{
 "cells": [
  {
   "cell_type": "code",
   "execution_count": 33,
   "metadata": {},
   "outputs": [],
   "source": [
    "import numpy as np "
   ]
  },
  {
   "cell_type": "code",
   "execution_count": 34,
   "metadata": {},
   "outputs": [],
   "source": [
    "symbols = [' ', 'X', 'O']\n"
   ]
  },
  {
   "cell_type": "code",
   "execution_count": 35,
   "metadata": {},
   "outputs": [],
   "source": [
    "def draw_board(grid):\n",
    "    print(\"\"\"\n",
    "     {} | {} | {}  \n",
    "    -----------\n",
    "     {} | {} | {} \n",
    "    -----------\n",
    "     {} | {} | {}\n",
    "    \"\"\".format(grid[0],grid[1],grid[2],grid[3],grid[4],grid[5],grid[6],grid[7],grid[8]))"
   ]
  },
  {
   "cell_type": "code",
   "execution_count": 45,
   "metadata": {},
   "outputs": [],
   "source": [
    "def initialise_moves():\n",
    "    grid=[]\n",
    "    for i in range(9):\n",
    "        grid.append(0)\n",
    "    return grid\n"
   ]
  },
  {
   "cell_type": "code",
   "execution_count": 46,
   "metadata": {},
   "outputs": [
    {
     "name": "stdout",
     "output_type": "stream",
     "text": [
      "[' ', ' ', ' ', ' ', ' ', ' ', ' ', ' ', ' ']\n"
     ]
    }
   ],
   "source": [
    "grid=[symbols[s] for s in initialise_moves()]\n",
    "print(grid)"
   ]
  },
  {
   "cell_type": "code",
   "execution_count": 47,
   "metadata": {},
   "outputs": [],
   "source": [
    "def symbol_from_player(player):\n",
    "    if player == 'user':\n",
    "        return 1\n",
    "    else:\n",
    "        return 2"
   ]
  },
  {
   "cell_type": "code",
   "execution_count": 48,
   "metadata": {},
   "outputs": [],
   "source": [
    "def who_goes_first():\n",
    "    player=input(\"Who goes first: user or computer: \")\n",
    "    return player.lower()"
   ]
  },
  {
   "cell_type": "code",
   "execution_count": 49,
   "metadata": {},
   "outputs": [],
   "source": [
    "# Make Function to change Current player"
   ]
  },
  {
   "cell_type": "code",
   "execution_count": 50,
   "metadata": {},
   "outputs": [],
   "source": [
    "def update_player(current_player):\n",
    "    if current_player == 'user':\n",
    "        return 'computer'\n",
    "    else:\n",
    "        return 'user'"
   ]
  },
  {
   "cell_type": "code",
   "execution_count": 51,
   "metadata": {},
   "outputs": [],
   "source": [
    "def update_grid(grid,player):\n",
    "    if player == \"user\":\n",
    "        square = int(input(\"Select square on Grid (from 0 to 8): \"))\n",
    "      \n",
    "    else:\n",
    "        sqaure = np.random.randint(9)\n",
    "    \n",
    "    grid[square] = symbols[symbol_from_player(player)]"
   ]
  },
  {
   "cell_type": "code",
   "execution_count": 52,
   "metadata": {},
   "outputs": [],
   "source": [
    "def start_game(grid):\n",
    "    draw_board(grid)\n",
    "    current_player = None # as we are just starting the game \n",
    "    is_first_go = True\n",
    "    if is_first_go:\n",
    "        current_player = who_goes_first()\n",
    "        is_first_go = False\n",
    "    else:\n",
    "        pass # just as no loop yet \n",
    "    update_grid(grid,current_player)\n",
    "    \n",
    "        \n",
    "        \n",
    "    \n",
    "        "
   ]
  },
  {
   "cell_type": "code",
   "execution_count": 53,
   "metadata": {},
   "outputs": [
    {
     "name": "stdout",
     "output_type": "stream",
     "text": [
      "\n",
      "       |   |    \n",
      "    -----------\n",
      "       |   |   \n",
      "    -----------\n",
      "       |   |  \n",
      "    \n",
      "Who goes first: user or computer: user\n",
      "Select square on Grid (from 0 to 8): 1\n",
      "\n",
      "       | X |    \n",
      "    -----------\n",
      "       |   |   \n",
      "    -----------\n",
      "       |   |  \n",
      "    \n"
     ]
    }
   ],
   "source": [
    "start_game(grid)\n",
    "draw_board(grid)"
   ]
  },
  {
   "cell_type": "code",
   "execution_count": null,
   "metadata": {},
   "outputs": [],
   "source": []
  }
 ],
 "metadata": {
  "kernelspec": {
   "display_name": "Python 3",
   "language": "python",
   "name": "python3"
  },
  "language_info": {
   "codemirror_mode": {
    "name": "ipython",
    "version": 3
   },
   "file_extension": ".py",
   "mimetype": "text/x-python",
   "name": "python",
   "nbconvert_exporter": "python",
   "pygments_lexer": "ipython3",
   "version": "3.6.4"
  }
 },
 "nbformat": 4,
 "nbformat_minor": 2
}
