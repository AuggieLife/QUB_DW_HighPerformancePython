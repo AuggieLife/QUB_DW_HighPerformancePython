{
 "cells": [
  {
   "cell_type": "code",
   "execution_count": 1,
   "metadata": {},
   "outputs": [],
   "source": [
    "import numpy as np "
   ]
  },
  {
   "cell_type": "code",
   "execution_count": 2,
   "metadata": {},
   "outputs": [],
   "source": [
    "symbols = [' ', 'X', 'O']\n"
   ]
  },
  {
   "cell_type": "code",
   "execution_count": 3,
   "metadata": {},
   "outputs": [],
   "source": [
    "def draw_board(grid):\n",
    "    print(\"\"\"\n",
    "     {} | {} | {}  \n",
    "    -----------\n",
    "     {} | {} | {} \n",
    "    -----------\n",
    "     {} | {} | {}\n",
    "    \"\"\".format(grid[0],grid[1],grid[2],grid[3],grid[4],grid[5],grid[6],grid[7],grid[8]))"
   ]
  },
  {
   "cell_type": "code",
   "execution_count": 4,
   "metadata": {},
   "outputs": [],
   "source": [
    "def initialise_moves():\n",
    "    grid=[]\n",
    "    for i in range(9):\n",
    "        grid.append(0)\n",
    "    return grid"
   ]
  },
  {
   "cell_type": "code",
   "execution_count": 5,
   "metadata": {},
   "outputs": [
    {
     "name": "stdout",
     "output_type": "stream",
     "text": [
      "[' ', ' ', ' ', ' ', ' ', ' ', ' ', ' ', ' ']\n"
     ]
    }
   ],
   "source": [
    "grid=[symbols[s] for s in initialise_moves()]\n",
    "print(grid)"
   ]
  },
  {
   "cell_type": "code",
   "execution_count": 6,
   "metadata": {},
   "outputs": [],
   "source": [
    "def who_goes_first():\n",
    "    player=input(\"Who goes first: user or computer: \")\n",
    "    return player.lower()"
   ]
  },
  {
   "cell_type": "code",
   "execution_count": 7,
   "metadata": {},
   "outputs": [],
   "source": [
    "def symbol_from_player(player):\n",
    "    if player == 'user':\n",
    "        return 1\n",
    "    else:\n",
    "        return 2"
   ]
  },
  {
   "cell_type": "code",
   "execution_count": 8,
   "metadata": {},
   "outputs": [],
   "source": [
    "def first_go(grid):\n",
    "    current_player=None\n",
    "    if who_goes_first() == \"user\":\n",
    "        current_player=\"user\"\n",
    "        turn=int(input(\"Choose Sqaure on grid from 0 to 8: \"))\n",
    "        grid[turn]=symbols[symbol_from_player(current_player)]\n",
    "    else:\n",
    "        current_player=\"computer\"\n",
    "        turn=np.random.randint(9)\n",
    "        grid[turn]=symbols[symbol_from_player(current_player)]\n",
    "    draw_board(grid)"
   ]
  },
  {
   "cell_type": "code",
   "execution_count": 9,
   "metadata": {},
   "outputs": [
    {
     "name": "stdout",
     "output_type": "stream",
     "text": [
      "Who goes first: user or computer: user\n",
      "Choose Sqaure on grid from 0 to 8: 1\n",
      "\n",
      "       | X |    \n",
      "    -----------\n",
      "       |   |   \n",
      "    -----------\n",
      "       |   |  \n",
      "    \n"
     ]
    }
   ],
   "source": [
    "first_go(grid)\n"
   ]
  },
  {
   "cell_type": "code",
   "execution_count": null,
   "metadata": {},
   "outputs": [],
   "source": []
  }
 ],
 "metadata": {
  "kernelspec": {
   "display_name": "Python 3",
   "language": "python",
   "name": "python3"
  },
  "language_info": {
   "codemirror_mode": {
    "name": "ipython",
    "version": 3
   },
   "file_extension": ".py",
   "mimetype": "text/x-python",
   "name": "python",
   "nbconvert_exporter": "python",
   "pygments_lexer": "ipython3",
   "version": "3.6.4"
  }
 },
 "nbformat": 4,
 "nbformat_minor": 2
}
