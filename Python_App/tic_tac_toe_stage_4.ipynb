{
 "cells": [
  {
   "cell_type": "code",
   "execution_count": 13,
   "metadata": {},
   "outputs": [],
   "source": [
    "import numpy as np "
   ]
  },
  {
   "cell_type": "code",
   "execution_count": 14,
   "metadata": {},
   "outputs": [],
   "source": [
    "symbols = [' ', 'X', 'O']"
   ]
  },
  {
   "cell_type": "code",
   "execution_count": 15,
   "metadata": {},
   "outputs": [],
   "source": [
    "def draw_board(grid):\n",
    "    print(\"\"\"\n",
    "     {} | {} | {}  \n",
    "    -----------\n",
    "     {} | {} | {} \n",
    "    -----------\n",
    "     {} | {} | {}\n",
    "    \"\"\".format(grid[0],grid[1],grid[2],grid[3],grid[4],grid[5],grid[6],grid[7],grid[8]))"
   ]
  },
  {
   "cell_type": "code",
   "execution_count": 16,
   "metadata": {},
   "outputs": [],
   "source": [
    "def initialise_moves():\n",
    "    grid=[]\n",
    "    for i in range(9):\n",
    "        grid.append(0)\n",
    "    return grid\n"
   ]
  },
  {
   "cell_type": "code",
   "execution_count": 17,
   "metadata": {},
   "outputs": [
    {
     "name": "stdout",
     "output_type": "stream",
     "text": [
      "[' ', ' ', ' ', ' ', ' ', ' ', ' ', ' ', ' ']\n"
     ]
    }
   ],
   "source": [
    "grid=[symbols[s] for s in initialise_moves()]\n",
    "print(grid)"
   ]
  },
  {
   "cell_type": "code",
   "execution_count": 18,
   "metadata": {},
   "outputs": [],
   "source": [
    "def symbol_from_player(player):\n",
    "    if player == 'user':\n",
    "        return 1\n",
    "    else:\n",
    "        return 2"
   ]
  },
  {
   "cell_type": "code",
   "execution_count": 19,
   "metadata": {},
   "outputs": [],
   "source": [
    "def who_goes_first():\n",
    "    player=input(\"Who goes first: user or computer: \")\n",
    "    return player.lower()"
   ]
  },
  {
   "cell_type": "code",
   "execution_count": 20,
   "metadata": {},
   "outputs": [],
   "source": [
    "# Make Function to change Current player"
   ]
  },
  {
   "cell_type": "code",
   "execution_count": 21,
   "metadata": {},
   "outputs": [],
   "source": [
    "def update_player(current_player):\n",
    "    if current_player == 'user':\n",
    "        return 'computer'\n",
    "    else:\n",
    "        return 'user'"
   ]
  },
  {
   "cell_type": "code",
   "execution_count": 22,
   "metadata": {},
   "outputs": [],
   "source": [
    "def update_grid(grid,player):\n",
    "    if player == \"user\":\n",
    "        square = int(input(\"Select square on Grid (from 0 to 8): \"))\n",
    "      \n",
    "    else:\n",
    "        square = np.random.randint(9)\n",
    "    \n",
    "    if grid[square] != ' ':\n",
    "        print('Square taken, try again, ')\n",
    "        update_grid(grid, player)\n",
    "    else:\n",
    "        grid[square] = symbols[symbol_from_player(player)]\n",
    "    "
   ]
  },
  {
   "cell_type": "code",
   "execution_count": 23,
   "metadata": {},
   "outputs": [],
   "source": [
    "def start_game(grid):\n",
    "    current_player = None # as we are just starting the game \n",
    "    is_first_go = True\n",
    "    while True:\n",
    "        draw_board(grid)\n",
    "        if ' ' not in grid:\n",
    "            print('board full')\n",
    "            break    \n",
    "        if is_first_go:\n",
    "            current_player = who_goes_first()\n",
    "            is_first_go = False\n",
    "            \n",
    "        update_grid(grid,current_player)\n",
    "        current_player = update_player(current_player)"
   ]
  },
  {
   "cell_type": "code",
   "execution_count": 24,
   "metadata": {},
   "outputs": [
    {
     "name": "stdout",
     "output_type": "stream",
     "text": [
      "\n",
      "       |   |    \n",
      "    -----------\n",
      "       |   |   \n",
      "    -----------\n",
      "       |   |  \n",
      "    \n",
      "Who goes first: user or computer: user\n",
      "Select square on Grid (from 0 to 8): 1\n",
      "\n",
      "       | X |    \n",
      "    -----------\n",
      "       |   |   \n",
      "    -----------\n",
      "       |   |  \n",
      "    \n",
      "\n",
      "       | X |    \n",
      "    -----------\n",
      "     O |   |   \n",
      "    -----------\n",
      "       |   |  \n",
      "    \n",
      "Select square on Grid (from 0 to 8): 1\n",
      "Aye, cheat much?\n",
      "Select square on Grid (from 0 to 8): 3\n",
      "Aye, cheat much?\n",
      "Select square on Grid (from 0 to 8): 4\n",
      "\n",
      "       | X |    \n",
      "    -----------\n",
      "     O | X |   \n",
      "    -----------\n",
      "       |   |  \n",
      "    \n",
      "\n",
      "       | X | O  \n",
      "    -----------\n",
      "     O | X |   \n",
      "    -----------\n",
      "       |   |  \n",
      "    \n",
      "Select square on Grid (from 0 to 8): 5\n",
      "\n",
      "       | X | O  \n",
      "    -----------\n",
      "     O | X | X \n",
      "    -----------\n",
      "       |   |  \n",
      "    \n",
      "Aye, cheat much?\n",
      "\n",
      "       | X | O  \n",
      "    -----------\n",
      "     O | X | X \n",
      "    -----------\n",
      "       | O |  \n",
      "    \n",
      "Select square on Grid (from 0 to 8): 1\n",
      "Aye, cheat much?\n",
      "Select square on Grid (from 0 to 8): 0\n",
      "\n",
      "     X | X | O  \n",
      "    -----------\n",
      "     O | X | X \n",
      "    -----------\n",
      "       | O |  \n",
      "    \n",
      "Aye, cheat much?\n",
      "Aye, cheat much?\n",
      "\n",
      "     X | X | O  \n",
      "    -----------\n",
      "     O | X | X \n",
      "    -----------\n",
      "     O | O |  \n",
      "    \n",
      "Select square on Grid (from 0 to 8): 8\n",
      "\n",
      "     X | X | O  \n",
      "    -----------\n",
      "     O | X | X \n",
      "    -----------\n",
      "     O | O | X\n",
      "    \n",
      "board full\n",
      "\n",
      "     X | X | O  \n",
      "    -----------\n",
      "     O | X | X \n",
      "    -----------\n",
      "     O | O | X\n",
      "    \n"
     ]
    }
   ],
   "source": [
    "start_game(grid)\n",
    "draw_board(grid)"
   ]
  },
  {
   "cell_type": "code",
   "execution_count": null,
   "metadata": {},
   "outputs": [],
   "source": []
  }
 ],
 "metadata": {
  "kernelspec": {
   "display_name": "Python 3",
   "language": "python",
   "name": "python3"
  },
  "language_info": {
   "codemirror_mode": {
    "name": "ipython",
    "version": 3
   },
   "file_extension": ".py",
   "mimetype": "text/x-python",
   "name": "python",
   "nbconvert_exporter": "python",
   "pygments_lexer": "ipython3",
   "version": "3.6.4"
  }
 },
 "nbformat": 4,
 "nbformat_minor": 2
}
