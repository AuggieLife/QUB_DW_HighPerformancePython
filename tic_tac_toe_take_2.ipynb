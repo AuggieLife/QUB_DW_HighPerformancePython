{
 "cells": [
  {
   "cell_type": "code",
   "execution_count": 1,
   "metadata": {},
   "outputs": [],
   "source": [
    "import numpy as np "
   ]
  },
  {
   "cell_type": "code",
   "execution_count": 2,
   "metadata": {},
   "outputs": [],
   "source": [
    "def initialise_moves():\n",
    "    return [int(m) for m in np.zeros(9)]"
   ]
  },
  {
   "cell_type": "code",
   "execution_count": 3,
   "metadata": {},
   "outputs": [],
   "source": [
    "symbols = [' ', 'X', 'O']\n",
    "grid=[symbols[s] for s in initialise_moves()]"
   ]
  },
  {
   "cell_type": "code",
   "execution_count": 4,
   "metadata": {},
   "outputs": [],
   "source": [
    "def draw_board(grid):\n",
    "    print(\"\"\"\n",
    "     {} | {} | {}  \n",
    "    -----------\n",
    "     {} | {} | {} \n",
    "    -----------\n",
    "     {} | {} | {}\n",
    "    \"\"\".format(*grid))"
   ]
  },
  {
   "cell_type": "code",
   "execution_count": 5,
   "metadata": {},
   "outputs": [],
   "source": [
    "def update_player(current_player):\n",
    "    if current_player == 'user':\n",
    "        return 'computer'\n",
    "    else:\n",
    "        return 'user'\n"
   ]
  },
  {
   "cell_type": "code",
   "execution_count": 6,
   "metadata": {},
   "outputs": [],
   "source": [
    "def make_turn():\n",
    "    global grid\n",
    "    num_moves = 0\n",
    "    finished=0\n",
    "    first_go = True\n",
    "    current_player = None\n",
    "    while True:\n",
    "        draw_board(grid)\n",
    "        finished=game_over()\n",
    "        if finished:\n",
    "            print(\"Game over: '\" + str(current_player) + \"' Wins\")\n",
    "            return 1\n",
    "        \n",
    "        else: \n",
    "            if ' ' not in grid:\n",
    "                print('board full')\n",
    "                return 1\n",
    "            if first_go:\n",
    "                first_go = False\n",
    "                go = input(\"Who's goes first (Select user or computer)? \\n\")\n",
    "                if go.lower() == \"user\":\n",
    "                    current_player = 'user'\n",
    "                    symbol=1\n",
    "                    turn=int(input(\"Input 0 to 8: \\n\"))\n",
    "                else: \n",
    "                    current_player = 'computer'\n",
    "                    symbol=2\n",
    "                    turn=np.random.randint(9)\n",
    "            else:\n",
    "                if current_player == \"user\":\n",
    "                    current_player = update_player(current_player)\n",
    "                    symbol=2\n",
    "                    turn=np.random.randint(9)\n",
    "                else: \n",
    "                    current_player = update_player(current_player)\n",
    "                    symbol=1\n",
    "                    turn=int(input(\"Input 0 to 8: \\n\"))\n",
    "            if grid[turn]!=symbols[0]:\n",
    "                current_player = update_player(current_player)\n",
    "                print(\"Square Assigned, pick again.\")\n",
    "            else:\n",
    "                \n",
    "                grid[turn]=symbols[symbol]\n",
    "                num_moves += 1"
   ]
  },
  {
   "cell_type": "code",
   "execution_count": 7,
   "metadata": {},
   "outputs": [],
   "source": [
    "def game_over():\n",
    "    if grid[0] == grid[1] == grid[2] != symbols[0]:\n",
    "        #print(current_player \" Wins\")\n",
    "        return 1\n",
    "    \n",
    "    elif grid[3] == grid[4] == grid[5] != symbols[0]:\n",
    "        #print(current_player \" Wins\")\n",
    "        return 1\n",
    "        \n",
    "    elif grid[6] == grid[7] == grid[8] != symbols[0]:\n",
    "        #print(current_player \" Wins\")\n",
    "        return 1\n",
    "        \n",
    "    elif grid[0] == grid[3] ==grid[6] != symbols[0]:\n",
    "        #print(current_player \" Wins\")\n",
    "        return 1\n",
    "        \n",
    "    elif grid[1] == grid[4] == grid[7] != symbols[0]:\n",
    "        #print(currrent_player \" Wins\")\n",
    "        return 1 \n",
    "        \n",
    "    elif grid[2] == grid[5] == grid[8] != symbols[0]:\n",
    "        #print(current_player \" Wins\")\n",
    "        return 1\n",
    "        \n",
    "    elif grid[0] == grid[4] == grid[8] != symbols[0]:\n",
    "        #print(current_player \" Wins\")\n",
    "        return 1\n",
    "        \n",
    "    elif grid[2] == grid[4] == grid[6] != symbols[0]:\n",
    "        #print(current_player \" Wins\")\n",
    "        return 1\n",
    "    \n",
    "    else:\n",
    "        return 0"
   ]
  },
  {
   "cell_type": "code",
   "execution_count": 8,
   "metadata": {},
   "outputs": [
    {
     "name": "stdout",
     "output_type": "stream",
     "text": [
      "\n",
      "       |   |    \n",
      "    -----------\n",
      "       |   |   \n",
      "    -----------\n",
      "       |   |  \n",
      "    \n",
      "Who's goes first (Select user or computer)? \n",
      "computer\n",
      "\n",
      "       |   | O  \n",
      "    -----------\n",
      "       |   |   \n",
      "    -----------\n",
      "       |   |  \n",
      "    \n",
      "Input 0 to 8: \n",
      "0\n",
      "\n",
      "     X |   | O  \n",
      "    -----------\n",
      "       |   |   \n",
      "    -----------\n",
      "       |   |  \n",
      "    \n",
      "Square Assigned, pick again.\n",
      "\n",
      "     X |   | O  \n",
      "    -----------\n",
      "       |   |   \n",
      "    -----------\n",
      "       |   |  \n",
      "    \n",
      "\n",
      "     X |   | O  \n",
      "    -----------\n",
      "       |   |   \n",
      "    -----------\n",
      "       |   | O\n",
      "    \n",
      "Input 0 to 8: \n",
      "3\n",
      "\n",
      "     X |   | O  \n",
      "    -----------\n",
      "     X |   |   \n",
      "    -----------\n",
      "       |   | O\n",
      "    \n",
      "\n",
      "     X | O | O  \n",
      "    -----------\n",
      "     X |   |   \n",
      "    -----------\n",
      "       |   | O\n",
      "    \n",
      "Input 0 to 8: \n",
      "4\n",
      "\n",
      "     X | O | O  \n",
      "    -----------\n",
      "     X | X |   \n",
      "    -----------\n",
      "       |   | O\n",
      "    \n",
      "Square Assigned, pick again.\n",
      "\n",
      "     X | O | O  \n",
      "    -----------\n",
      "     X | X |   \n",
      "    -----------\n",
      "       |   | O\n",
      "    \n",
      "\n",
      "     X | O | O  \n",
      "    -----------\n",
      "     X | X | O \n",
      "    -----------\n",
      "       |   | O\n",
      "    \n",
      "Game over: 'computer' Wins\n"
     ]
    },
    {
     "data": {
      "text/plain": [
       "1"
      ]
     },
     "execution_count": 8,
     "metadata": {},
     "output_type": "execute_result"
    }
   ],
   "source": [
    "make_turn()"
   ]
  },
  {
   "cell_type": "code",
   "execution_count": null,
   "metadata": {},
   "outputs": [],
   "source": []
  }
 ],
 "metadata": {
  "kernelspec": {
   "display_name": "Python 3",
   "language": "python",
   "name": "python3"
  },
  "language_info": {
   "codemirror_mode": {
    "name": "ipython",
    "version": 3
   },
   "file_extension": ".py",
   "mimetype": "text/x-python",
   "name": "python",
   "nbconvert_exporter": "python",
   "pygments_lexer": "ipython3",
   "version": "3.6.4"
  }
 },
 "nbformat": 4,
 "nbformat_minor": 2
}
